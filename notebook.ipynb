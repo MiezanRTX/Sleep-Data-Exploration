{
 "cells": [
  {
   "cell_type": "markdown",
   "id": "fe7ecb8d-ad0b-40c0-b404-8b4c339d1c8b",
   "metadata": {},
   "source": [
    "![insomnia](insomnia.jpg)\n"
   ]
  },
  {
   "cell_type": "markdown",
   "id": "04929432-e076-40ef-b2a7-8e67dc7ba1a3",
   "metadata": {},
   "source": [
    "Your client, SleepInc, has shared anonymized sleep data from their hot new sleep tracking app SleepScope. As their data science consultant, your mission is to analyze the lifestyle survey data with Python to discover relationships between exercise, gender, occupation, and sleep quality. See if you can identify patterns leading to insights on sleep quality.\n",
    "\n",
    "## 💾 The data: sleep_health_data.csv\n",
    "\n",
    "SleepInc has provided you with an anonymized dataset of sleep and lifestyle metrics for 374 individuals. This dataset contains average values for each person calculated over the past six months. The data is saved as `sleep_health_data.csv`.\n",
    "\n",
    "The dataset includes 13 columns covering sleep duration, quality, disorders, exercise, stress, diet, demographics, and other factors related to sleep health. \n",
    "\n",
    "| Column | Description |\n",
    "|---------|----------------------------------------|  \n",
    "| `Person ID` | An identifier for each individual. |\n",
    "| `Gender` | The gender of the person (Male/Female). |  \n",
    "| `Age` | The age of the person in years. |\n",
    "| `Occupation` | The occupation or profession of the person. |\n",
    "| `Sleep Duration (hours)` | The average number of hours the person sleeps per day. |\n",
    "| `Quality of Sleep (scale: 1-10)` | A subjective rating of the quality of sleep, ranging from 1 to 10. |\n",
    "| `Physical Activity Level (minutes/day)` | The average number of minutes the person engages in physical activity daily. |  \n",
    "| `Stress Level (scale: 1-10)` | A subjective rating of the stress level experienced by the person, ranging from 1 to 10. |\n",
    "| `BMI Category` | The BMI category of the person (e.g., Underweight, Normal, Overweight). |\n",
    "| `Blood Pressure (systolic/diastolic)` | The average blood pressure measurement of the person, indicated as systolic pressure over diastolic pressure. |\n",
    "| `Heart Rate (bpm)` | The average resting heart rate of the person in beats per minute. |\n",
    "| `Daily Steps` | The average number of steps the person takes per day. |\n",
    "| `Sleep Disorder` | The presence or absence of a sleep disorder in the person (None, Insomnia, Sleep Apnea). |"
   ]
  },
  {
   "cell_type": "markdown",
   "id": "9d7fa7a5-98e4-45f8-ae58-5328bb42ec94",
   "metadata": {},
   "source": [
    "# Sleep Health Data Analysis\n",
    "## Introduction\n",
    "\n",
    "This notebook analyzes a dataset on sleep health. The goal is to understand sleep duration and quality patterns across different occupations, and to identify which occupations tend to have the lowest averages. By using Python libraries such as Pandas, NumPy, Seaborn, and Matplotlib, we can organize, analyze, and visualize the data to draw meaningful conclusions."
   ]
  },
  {
   "cell_type": "markdown",
   "id": "7daf7576-a7be-4d35-8af9-d5e3fd5c9ae9",
   "metadata": {},
   "source": [
    "# 1. Importing Libraries\n",
    "- Purpose: Load the essential libraries for data analysis.\n",
    "- pandas for data manipulation.\n",
    "- numpy for numerical operations.\n",
    "- seaborn and matplotlib for data visualization."
   ]
  },
  {
   "cell_type": "code",
   "execution_count": 27,
   "id": "a622f61f-54d5-468a-83b6-41f0ff404278",
   "metadata": {
    "executionCancelledAt": null,
    "executionTime": 11,
    "lastExecutedAt": 1755704558179,
    "lastExecutedByKernel": "36c35714-caf8-44ff-a4d2-588f02a3a22e",
    "lastScheduledRunId": null,
    "lastSuccessfullyExecutedCode": "# Start coding here\n# Use as many cells as you need\nimport pandas as pd\nimport numpy as np\nimport seaborn as sns\nimport matplotlib.pyplot as plt"
   },
   "outputs": [],
   "source": [
    "# Start coding here\n",
    "# Use as many cells as you need\n",
    "import pandas as pd\n",
    "import numpy as np\n",
    "import seaborn as sns\n",
    "import matplotlib.pyplot as plt"
   ]
  },
  {
   "cell_type": "markdown",
   "id": "3325592b-266f-43c2-8b62-7b5451cfea07",
   "metadata": {},
   "source": [
    "# 2. Loading the Dataset\n",
    "- Purpose: Read the dataset into a DataFrame and display the first 10 rows.\n",
    "- This allows us to check the structure, columns, and ensure the data has loaded correctly."
   ]
  },
  {
   "cell_type": "code",
   "execution_count": 28,
   "id": "3d60b0d1-a16d-497e-892b-61b9a4e91408",
   "metadata": {
    "executionCancelledAt": null,
    "executionTime": 46,
    "lastExecutedAt": 1755704558225,
    "lastExecutedByKernel": "36c35714-caf8-44ff-a4d2-588f02a3a22e",
    "lastScheduledRunId": null,
    "lastSuccessfullyExecutedCode": "sleep_health_data = pd.read_csv(\"sleep_health_data.csv\")\nsleep_health_data.head(10)",
    "outputsMetadata": {
     "0": {
      "height": 550,
      "tableState": {
       "customFilter": {
        "const": {
         "type": "boolean",
         "valid": true,
         "value": true
        },
        "id": "539ae857-577e-4fbd-84c9-85a8742cfaa9",
        "nodeType": "const"
       }
      },
      "type": "dataFrame"
     }
    }
   },
   "outputs": [
    {
     "data": {
      "text/html": [
       "<div>\n",
       "<style scoped>\n",
       "    .dataframe tbody tr th:only-of-type {\n",
       "        vertical-align: middle;\n",
       "    }\n",
       "\n",
       "    .dataframe tbody tr th {\n",
       "        vertical-align: top;\n",
       "    }\n",
       "\n",
       "    .dataframe thead th {\n",
       "        text-align: right;\n",
       "    }\n",
       "</style>\n",
       "<table border=\"1\" class=\"dataframe\">\n",
       "  <thead>\n",
       "    <tr style=\"text-align: right;\">\n",
       "      <th></th>\n",
       "      <th>Person ID</th>\n",
       "      <th>Gender</th>\n",
       "      <th>Age</th>\n",
       "      <th>Occupation</th>\n",
       "      <th>Sleep Duration</th>\n",
       "      <th>Quality of Sleep</th>\n",
       "      <th>Physical Activity Level</th>\n",
       "      <th>Stress Level</th>\n",
       "      <th>BMI Category</th>\n",
       "      <th>Blood Pressure</th>\n",
       "      <th>Heart Rate</th>\n",
       "      <th>Daily Steps</th>\n",
       "      <th>Sleep Disorder</th>\n",
       "    </tr>\n",
       "  </thead>\n",
       "  <tbody>\n",
       "    <tr>\n",
       "      <th>0</th>\n",
       "      <td>1</td>\n",
       "      <td>Male</td>\n",
       "      <td>27</td>\n",
       "      <td>Software Engineer</td>\n",
       "      <td>6.1</td>\n",
       "      <td>6</td>\n",
       "      <td>42</td>\n",
       "      <td>6</td>\n",
       "      <td>Overweight</td>\n",
       "      <td>126/83</td>\n",
       "      <td>77</td>\n",
       "      <td>4200</td>\n",
       "      <td>NaN</td>\n",
       "    </tr>\n",
       "    <tr>\n",
       "      <th>1</th>\n",
       "      <td>2</td>\n",
       "      <td>Male</td>\n",
       "      <td>28</td>\n",
       "      <td>Doctor</td>\n",
       "      <td>6.2</td>\n",
       "      <td>6</td>\n",
       "      <td>60</td>\n",
       "      <td>8</td>\n",
       "      <td>Normal</td>\n",
       "      <td>125/80</td>\n",
       "      <td>75</td>\n",
       "      <td>10000</td>\n",
       "      <td>NaN</td>\n",
       "    </tr>\n",
       "    <tr>\n",
       "      <th>2</th>\n",
       "      <td>3</td>\n",
       "      <td>Male</td>\n",
       "      <td>28</td>\n",
       "      <td>Doctor</td>\n",
       "      <td>6.2</td>\n",
       "      <td>6</td>\n",
       "      <td>60</td>\n",
       "      <td>8</td>\n",
       "      <td>Normal</td>\n",
       "      <td>125/80</td>\n",
       "      <td>75</td>\n",
       "      <td>10000</td>\n",
       "      <td>NaN</td>\n",
       "    </tr>\n",
       "    <tr>\n",
       "      <th>3</th>\n",
       "      <td>4</td>\n",
       "      <td>Male</td>\n",
       "      <td>28</td>\n",
       "      <td>Sales Representative</td>\n",
       "      <td>5.9</td>\n",
       "      <td>4</td>\n",
       "      <td>30</td>\n",
       "      <td>8</td>\n",
       "      <td>Obese</td>\n",
       "      <td>140/90</td>\n",
       "      <td>85</td>\n",
       "      <td>3000</td>\n",
       "      <td>Sleep Apnea</td>\n",
       "    </tr>\n",
       "    <tr>\n",
       "      <th>4</th>\n",
       "      <td>5</td>\n",
       "      <td>Male</td>\n",
       "      <td>28</td>\n",
       "      <td>Sales Representative</td>\n",
       "      <td>5.9</td>\n",
       "      <td>4</td>\n",
       "      <td>30</td>\n",
       "      <td>8</td>\n",
       "      <td>Obese</td>\n",
       "      <td>140/90</td>\n",
       "      <td>85</td>\n",
       "      <td>3000</td>\n",
       "      <td>Sleep Apnea</td>\n",
       "    </tr>\n",
       "    <tr>\n",
       "      <th>5</th>\n",
       "      <td>6</td>\n",
       "      <td>Male</td>\n",
       "      <td>28</td>\n",
       "      <td>Software Engineer</td>\n",
       "      <td>5.9</td>\n",
       "      <td>4</td>\n",
       "      <td>30</td>\n",
       "      <td>8</td>\n",
       "      <td>Obese</td>\n",
       "      <td>140/90</td>\n",
       "      <td>85</td>\n",
       "      <td>3000</td>\n",
       "      <td>Insomnia</td>\n",
       "    </tr>\n",
       "    <tr>\n",
       "      <th>6</th>\n",
       "      <td>7</td>\n",
       "      <td>Male</td>\n",
       "      <td>29</td>\n",
       "      <td>Teacher</td>\n",
       "      <td>6.3</td>\n",
       "      <td>6</td>\n",
       "      <td>40</td>\n",
       "      <td>7</td>\n",
       "      <td>Obese</td>\n",
       "      <td>140/90</td>\n",
       "      <td>82</td>\n",
       "      <td>3500</td>\n",
       "      <td>Insomnia</td>\n",
       "    </tr>\n",
       "    <tr>\n",
       "      <th>7</th>\n",
       "      <td>8</td>\n",
       "      <td>Male</td>\n",
       "      <td>29</td>\n",
       "      <td>Doctor</td>\n",
       "      <td>7.8</td>\n",
       "      <td>7</td>\n",
       "      <td>75</td>\n",
       "      <td>6</td>\n",
       "      <td>Normal</td>\n",
       "      <td>120/80</td>\n",
       "      <td>70</td>\n",
       "      <td>8000</td>\n",
       "      <td>NaN</td>\n",
       "    </tr>\n",
       "    <tr>\n",
       "      <th>8</th>\n",
       "      <td>9</td>\n",
       "      <td>Male</td>\n",
       "      <td>29</td>\n",
       "      <td>Doctor</td>\n",
       "      <td>7.8</td>\n",
       "      <td>7</td>\n",
       "      <td>75</td>\n",
       "      <td>6</td>\n",
       "      <td>Normal</td>\n",
       "      <td>120/80</td>\n",
       "      <td>70</td>\n",
       "      <td>8000</td>\n",
       "      <td>NaN</td>\n",
       "    </tr>\n",
       "    <tr>\n",
       "      <th>9</th>\n",
       "      <td>10</td>\n",
       "      <td>Male</td>\n",
       "      <td>29</td>\n",
       "      <td>Doctor</td>\n",
       "      <td>7.8</td>\n",
       "      <td>7</td>\n",
       "      <td>75</td>\n",
       "      <td>6</td>\n",
       "      <td>Normal</td>\n",
       "      <td>120/80</td>\n",
       "      <td>70</td>\n",
       "      <td>8000</td>\n",
       "      <td>NaN</td>\n",
       "    </tr>\n",
       "  </tbody>\n",
       "</table>\n",
       "</div>"
      ],
      "text/plain": [
       "   Person ID Gender  Age            Occupation  Sleep Duration  \\\n",
       "0          1   Male   27     Software Engineer             6.1   \n",
       "1          2   Male   28                Doctor             6.2   \n",
       "2          3   Male   28                Doctor             6.2   \n",
       "3          4   Male   28  Sales Representative             5.9   \n",
       "4          5   Male   28  Sales Representative             5.9   \n",
       "5          6   Male   28     Software Engineer             5.9   \n",
       "6          7   Male   29               Teacher             6.3   \n",
       "7          8   Male   29                Doctor             7.8   \n",
       "8          9   Male   29                Doctor             7.8   \n",
       "9         10   Male   29                Doctor             7.8   \n",
       "\n",
       "   Quality of Sleep  Physical Activity Level  Stress Level BMI Category  \\\n",
       "0                 6                       42             6   Overweight   \n",
       "1                 6                       60             8       Normal   \n",
       "2                 6                       60             8       Normal   \n",
       "3                 4                       30             8        Obese   \n",
       "4                 4                       30             8        Obese   \n",
       "5                 4                       30             8        Obese   \n",
       "6                 6                       40             7        Obese   \n",
       "7                 7                       75             6       Normal   \n",
       "8                 7                       75             6       Normal   \n",
       "9                 7                       75             6       Normal   \n",
       "\n",
       "  Blood Pressure  Heart Rate  Daily Steps Sleep Disorder  \n",
       "0         126/83          77         4200            NaN  \n",
       "1         125/80          75        10000            NaN  \n",
       "2         125/80          75        10000            NaN  \n",
       "3         140/90          85         3000    Sleep Apnea  \n",
       "4         140/90          85         3000    Sleep Apnea  \n",
       "5         140/90          85         3000       Insomnia  \n",
       "6         140/90          82         3500       Insomnia  \n",
       "7         120/80          70         8000            NaN  \n",
       "8         120/80          70         8000            NaN  \n",
       "9         120/80          70         8000            NaN  "
      ]
     },
     "execution_count": 28,
     "metadata": {},
     "output_type": "execute_result"
    }
   ],
   "source": [
    "sleep_health_data = pd.read_csv(\"sleep_health_data.csv\")\n",
    "sleep_health_data.head(10)"
   ]
  },
  {
   "cell_type": "markdown",
   "id": "cb1d2db4-7d08-4d59-8b9b-da04544b8399",
   "metadata": {},
   "source": [
    "# 3. Average Sleep Duration by Occupation\n",
    "- Purpose: Calculate the average sleep duration for each occupation.\n",
    "- Then, sort the results in ascending order to identify occupations with the lowest average sleep time.\n"
   ]
  },
  {
   "cell_type": "code",
   "execution_count": 29,
   "id": "a4ebae79-0643-4bcd-bd26-79a63fbd3820",
   "metadata": {
    "executionCancelledAt": null,
    "executionTime": 51,
    "lastExecutedAt": 1755704558276,
    "lastExecutedByKernel": "36c35714-caf8-44ff-a4d2-588f02a3a22e",
    "lastScheduledRunId": null,
    "lastSuccessfullyExecutedCode": "mean_sleep_data = sleep_health_data.groupby(\"Occupation\")[\"Sleep Duration\"].mean()\nsorted_mean_sleep = mean_sleep_data.sort_values(ascending = True)\n",
    "outputsMetadata": {
     "0": {
      "height": 50,
      "tableState": {
       "customFilter": {
        "const": {
         "type": "boolean",
         "valid": true,
         "value": true
        },
        "id": "539ae857-577e-4fbd-84c9-85a8742cfaa9",
        "nodeType": "const"
       }
      },
      "type": "dataFrame"
     }
    }
   },
   "outputs": [],
   "source": [
    "mean_sleep_data = sleep_health_data.groupby(\"Occupation\")[\"Sleep Duration\"].mean()\n",
    "sorted_mean_sleep = mean_sleep_data.sort_values(ascending = True)\n"
   ]
  },
  {
   "cell_type": "markdown",
   "id": "a8b7176e-027c-44eb-a9e9-039a453b5f10",
   "metadata": {},
   "source": [
    "# 4. Occupation with Lowest Sleep Duration\n",
    "- Purpose: Extract the occupation with the lowest sleep duration.\n",
    "- This helps pinpoint which profession tends to sleep the least on average."
   ]
  },
  {
   "cell_type": "code",
   "execution_count": 30,
   "id": "0c5c8005-52a0-4016-83bc-689859684b34",
   "metadata": {
    "executionCancelledAt": null,
    "executionTime": 48,
    "lastExecutedAt": 1755704558325,
    "lastExecutedByKernel": "36c35714-caf8-44ff-a4d2-588f02a3a22e",
    "lastScheduledRunId": null,
    "lastSuccessfullyExecutedCode": "lowest_sleep_occ = sorted_mean_sleep.index[0]\nlowest_sleep_occ"
   },
   "outputs": [
    {
     "data": {
      "text/plain": [
       "'Sales Representative'"
      ]
     },
     "execution_count": 30,
     "metadata": {},
     "output_type": "execute_result"
    }
   ],
   "source": [
    "lowest_sleep_occ = sorted_mean_sleep.index[0]\n",
    "lowest_sleep_occ"
   ]
  },
  {
   "cell_type": "markdown",
   "id": "cd3e8e93-5593-4baa-84b0-3fb100a9aec3",
   "metadata": {},
   "source": [
    "# 5. Comparing Sleep Quality\n",
    "1. Purpose:\n",
    "   - Compute the average sleep quality per occupation.\n",
    "   - Identify which occupation has the lowest sleep quality.\n",
    "   - Check if the occupation with the lowest sleep quality is the same as the one with the lowest sleep duration.\n",
    "\n",
    "2. The last line (same_occ) returns True if both are the same occupation, otherwise False."
   ]
  },
  {
   "cell_type": "code",
   "execution_count": 31,
   "id": "aa07a13b-53ff-4a4e-b905-d249c0a3d354",
   "metadata": {
    "executionCancelledAt": null,
    "executionTime": 47,
    "lastExecutedAt": 1755704558372,
    "lastExecutedByKernel": "36c35714-caf8-44ff-a4d2-588f02a3a22e",
    "lastScheduledRunId": null,
    "lastSuccessfullyExecutedCode": "mean_sleep_quality_occ = sleep_health_data.groupby(\"Occupation\")[\"Quality of Sleep\"].mean()\nlowest_sleep_quality_occ = mean_sleep_quality_occ.sort_values(ascending = True).index[0]\nlowest_sleep_quality_occ\n\nsame_occ = lowest_sleep_quality_occ == lowest_sleep_occ\nsame_occ\n",
    "outputsMetadata": {
     "0": {
      "height": 500,
      "tableState": {},
      "type": "dataFrame"
     }
    }
   },
   "outputs": [
    {
     "data": {
      "text/plain": [
       "True"
      ]
     },
     "execution_count": 31,
     "metadata": {},
     "output_type": "execute_result"
    }
   ],
   "source": [
    "mean_sleep_quality_occ = sleep_health_data.groupby(\"Occupation\")[\"Quality of Sleep\"].mean()\n",
    "lowest_sleep_quality_occ = mean_sleep_quality_occ.sort_values(ascending = True).index[0]\n",
    "lowest_sleep_quality_occ\n",
    "\n",
    "same_occ = lowest_sleep_quality_occ == lowest_sleep_occ\n",
    "same_occ\n"
   ]
  },
  {
   "cell_type": "markdown",
   "id": "f70c3a53-99bf-4b76-a88c-fe3c629c3ade",
   "metadata": {},
   "source": [
    "# 6. Preparing a BMI–Insomnia Ratio Dictionary\n",
    "- Create a dictionary to store ratios of insomnia prevalence for each BMI category.\n",
    "- Keys represent BMI categories, values will later be filled with calculated ratios."
   ]
  },
  {
   "cell_type": "code",
   "execution_count": 32,
   "id": "4b8029d3-1668-460b-a2e9-a272882560ad",
   "metadata": {
    "executionCancelledAt": null,
    "executionTime": 48,
    "lastExecutedAt": 1755704558420,
    "lastExecutedByKernel": "36c35714-caf8-44ff-a4d2-588f02a3a22e",
    "lastScheduledRunId": null,
    "lastSuccessfullyExecutedCode": "bmi_insomnia_ratios = {\n    \"Normal\" : float,\n    \"Overweight\" : float,\n    \"Obese\" : float\n}"
   },
   "outputs": [],
   "source": [
    "bmi_insomnia_ratios = {\n",
    "    \"Normal\" : float,\n",
    "    \"Overweight\" : float,\n",
    "    \"Obese\" : float\n",
    "}"
   ]
  },
  {
   "cell_type": "markdown",
   "id": "8faec3f9-31d0-4632-babd-79d7de911c6f",
   "metadata": {},
   "source": [
    "# 7. Filtering Insomnia Cases\n",
    "- Filter the dataset to include only users diagnosed with Insomnia.\n",
    "- This subset will be used for ratio calculations."
   ]
  },
  {
   "cell_type": "code",
   "execution_count": 33,
   "id": "c286808f-d721-43f7-93f7-78e6236672c5",
   "metadata": {
    "executionCancelledAt": null,
    "executionTime": 69,
    "lastExecutedAt": 1755704558490,
    "lastExecutedByKernel": "36c35714-caf8-44ff-a4d2-588f02a3a22e",
    "lastScheduledRunId": null,
    "lastSuccessfullyExecutedCode": "user_insomnia = sleep_health_data[sleep_health_data[\"Sleep Disorder\"] == \"Insomnia\"]\nuser_insomnia",
    "outputsMetadata": {
     "0": {
      "height": 550,
      "tableState": {
       "customFilter": {
        "const": {
         "type": "boolean",
         "valid": true,
         "value": true
        },
        "id": "539ae857-577e-4fbd-84c9-85a8742cfaa9",
        "nodeType": "const"
       }
      },
      "type": "dataFrame"
     }
    }
   },
   "outputs": [
    {
     "data": {
      "text/html": [
       "<div>\n",
       "<style scoped>\n",
       "    .dataframe tbody tr th:only-of-type {\n",
       "        vertical-align: middle;\n",
       "    }\n",
       "\n",
       "    .dataframe tbody tr th {\n",
       "        vertical-align: top;\n",
       "    }\n",
       "\n",
       "    .dataframe thead th {\n",
       "        text-align: right;\n",
       "    }\n",
       "</style>\n",
       "<table border=\"1\" class=\"dataframe\">\n",
       "  <thead>\n",
       "    <tr style=\"text-align: right;\">\n",
       "      <th></th>\n",
       "      <th>Person ID</th>\n",
       "      <th>Gender</th>\n",
       "      <th>Age</th>\n",
       "      <th>Occupation</th>\n",
       "      <th>Sleep Duration</th>\n",
       "      <th>Quality of Sleep</th>\n",
       "      <th>Physical Activity Level</th>\n",
       "      <th>Stress Level</th>\n",
       "      <th>BMI Category</th>\n",
       "      <th>Blood Pressure</th>\n",
       "      <th>Heart Rate</th>\n",
       "      <th>Daily Steps</th>\n",
       "      <th>Sleep Disorder</th>\n",
       "    </tr>\n",
       "  </thead>\n",
       "  <tbody>\n",
       "    <tr>\n",
       "      <th>5</th>\n",
       "      <td>6</td>\n",
       "      <td>Male</td>\n",
       "      <td>28</td>\n",
       "      <td>Software Engineer</td>\n",
       "      <td>5.9</td>\n",
       "      <td>4</td>\n",
       "      <td>30</td>\n",
       "      <td>8</td>\n",
       "      <td>Obese</td>\n",
       "      <td>140/90</td>\n",
       "      <td>85</td>\n",
       "      <td>3000</td>\n",
       "      <td>Insomnia</td>\n",
       "    </tr>\n",
       "    <tr>\n",
       "      <th>6</th>\n",
       "      <td>7</td>\n",
       "      <td>Male</td>\n",
       "      <td>29</td>\n",
       "      <td>Teacher</td>\n",
       "      <td>6.3</td>\n",
       "      <td>6</td>\n",
       "      <td>40</td>\n",
       "      <td>7</td>\n",
       "      <td>Obese</td>\n",
       "      <td>140/90</td>\n",
       "      <td>82</td>\n",
       "      <td>3500</td>\n",
       "      <td>Insomnia</td>\n",
       "    </tr>\n",
       "    <tr>\n",
       "      <th>18</th>\n",
       "      <td>19</td>\n",
       "      <td>Female</td>\n",
       "      <td>29</td>\n",
       "      <td>Nurse</td>\n",
       "      <td>6.5</td>\n",
       "      <td>5</td>\n",
       "      <td>40</td>\n",
       "      <td>7</td>\n",
       "      <td>Normal</td>\n",
       "      <td>132/87</td>\n",
       "      <td>80</td>\n",
       "      <td>4000</td>\n",
       "      <td>Insomnia</td>\n",
       "    </tr>\n",
       "    <tr>\n",
       "      <th>31</th>\n",
       "      <td>32</td>\n",
       "      <td>Female</td>\n",
       "      <td>30</td>\n",
       "      <td>Nurse</td>\n",
       "      <td>6.4</td>\n",
       "      <td>5</td>\n",
       "      <td>35</td>\n",
       "      <td>7</td>\n",
       "      <td>Normal</td>\n",
       "      <td>130/86</td>\n",
       "      <td>78</td>\n",
       "      <td>4100</td>\n",
       "      <td>Insomnia</td>\n",
       "    </tr>\n",
       "    <tr>\n",
       "      <th>67</th>\n",
       "      <td>68</td>\n",
       "      <td>Male</td>\n",
       "      <td>33</td>\n",
       "      <td>Doctor</td>\n",
       "      <td>6.0</td>\n",
       "      <td>6</td>\n",
       "      <td>30</td>\n",
       "      <td>8</td>\n",
       "      <td>Normal</td>\n",
       "      <td>125/80</td>\n",
       "      <td>72</td>\n",
       "      <td>5000</td>\n",
       "      <td>Insomnia</td>\n",
       "    </tr>\n",
       "    <tr>\n",
       "      <th>...</th>\n",
       "      <td>...</td>\n",
       "      <td>...</td>\n",
       "      <td>...</td>\n",
       "      <td>...</td>\n",
       "      <td>...</td>\n",
       "      <td>...</td>\n",
       "      <td>...</td>\n",
       "      <td>...</td>\n",
       "      <td>...</td>\n",
       "      <td>...</td>\n",
       "      <td>...</td>\n",
       "      <td>...</td>\n",
       "      <td>...</td>\n",
       "    </tr>\n",
       "    <tr>\n",
       "      <th>308</th>\n",
       "      <td>309</td>\n",
       "      <td>Female</td>\n",
       "      <td>52</td>\n",
       "      <td>Accountant</td>\n",
       "      <td>6.6</td>\n",
       "      <td>7</td>\n",
       "      <td>45</td>\n",
       "      <td>7</td>\n",
       "      <td>Overweight</td>\n",
       "      <td>130/85</td>\n",
       "      <td>72</td>\n",
       "      <td>6000</td>\n",
       "      <td>Insomnia</td>\n",
       "    </tr>\n",
       "    <tr>\n",
       "      <th>309</th>\n",
       "      <td>310</td>\n",
       "      <td>Female</td>\n",
       "      <td>52</td>\n",
       "      <td>Accountant</td>\n",
       "      <td>6.6</td>\n",
       "      <td>7</td>\n",
       "      <td>45</td>\n",
       "      <td>7</td>\n",
       "      <td>Overweight</td>\n",
       "      <td>130/85</td>\n",
       "      <td>72</td>\n",
       "      <td>6000</td>\n",
       "      <td>Insomnia</td>\n",
       "    </tr>\n",
       "    <tr>\n",
       "      <th>310</th>\n",
       "      <td>311</td>\n",
       "      <td>Female</td>\n",
       "      <td>52</td>\n",
       "      <td>Accountant</td>\n",
       "      <td>6.6</td>\n",
       "      <td>7</td>\n",
       "      <td>45</td>\n",
       "      <td>7</td>\n",
       "      <td>Overweight</td>\n",
       "      <td>130/85</td>\n",
       "      <td>72</td>\n",
       "      <td>6000</td>\n",
       "      <td>Insomnia</td>\n",
       "    </tr>\n",
       "    <tr>\n",
       "      <th>311</th>\n",
       "      <td>312</td>\n",
       "      <td>Female</td>\n",
       "      <td>52</td>\n",
       "      <td>Accountant</td>\n",
       "      <td>6.6</td>\n",
       "      <td>7</td>\n",
       "      <td>45</td>\n",
       "      <td>7</td>\n",
       "      <td>Overweight</td>\n",
       "      <td>130/85</td>\n",
       "      <td>72</td>\n",
       "      <td>6000</td>\n",
       "      <td>Insomnia</td>\n",
       "    </tr>\n",
       "    <tr>\n",
       "      <th>315</th>\n",
       "      <td>316</td>\n",
       "      <td>Female</td>\n",
       "      <td>53</td>\n",
       "      <td>Engineer</td>\n",
       "      <td>8.3</td>\n",
       "      <td>9</td>\n",
       "      <td>30</td>\n",
       "      <td>3</td>\n",
       "      <td>Normal</td>\n",
       "      <td>125/80</td>\n",
       "      <td>65</td>\n",
       "      <td>5000</td>\n",
       "      <td>Insomnia</td>\n",
       "    </tr>\n",
       "  </tbody>\n",
       "</table>\n",
       "<p>77 rows × 13 columns</p>\n",
       "</div>"
      ],
      "text/plain": [
       "     Person ID  Gender  Age         Occupation  Sleep Duration  \\\n",
       "5            6    Male   28  Software Engineer             5.9   \n",
       "6            7    Male   29            Teacher             6.3   \n",
       "18          19  Female   29              Nurse             6.5   \n",
       "31          32  Female   30              Nurse             6.4   \n",
       "67          68    Male   33             Doctor             6.0   \n",
       "..         ...     ...  ...                ...             ...   \n",
       "308        309  Female   52         Accountant             6.6   \n",
       "309        310  Female   52         Accountant             6.6   \n",
       "310        311  Female   52         Accountant             6.6   \n",
       "311        312  Female   52         Accountant             6.6   \n",
       "315        316  Female   53           Engineer             8.3   \n",
       "\n",
       "     Quality of Sleep  Physical Activity Level  Stress Level BMI Category  \\\n",
       "5                   4                       30             8        Obese   \n",
       "6                   6                       40             7        Obese   \n",
       "18                  5                       40             7       Normal   \n",
       "31                  5                       35             7       Normal   \n",
       "67                  6                       30             8       Normal   \n",
       "..                ...                      ...           ...          ...   \n",
       "308                 7                       45             7   Overweight   \n",
       "309                 7                       45             7   Overweight   \n",
       "310                 7                       45             7   Overweight   \n",
       "311                 7                       45             7   Overweight   \n",
       "315                 9                       30             3       Normal   \n",
       "\n",
       "    Blood Pressure  Heart Rate  Daily Steps Sleep Disorder  \n",
       "5           140/90          85         3000       Insomnia  \n",
       "6           140/90          82         3500       Insomnia  \n",
       "18          132/87          80         4000       Insomnia  \n",
       "31          130/86          78         4100       Insomnia  \n",
       "67          125/80          72         5000       Insomnia  \n",
       "..             ...         ...          ...            ...  \n",
       "308         130/85          72         6000       Insomnia  \n",
       "309         130/85          72         6000       Insomnia  \n",
       "310         130/85          72         6000       Insomnia  \n",
       "311         130/85          72         6000       Insomnia  \n",
       "315         125/80          65         5000       Insomnia  \n",
       "\n",
       "[77 rows x 13 columns]"
      ]
     },
     "execution_count": 33,
     "metadata": {},
     "output_type": "execute_result"
    }
   ],
   "source": [
    "user_insomnia = sleep_health_data[sleep_health_data[\"Sleep Disorder\"] == \"Insomnia\"]\n",
    "user_insomnia"
   ]
  },
  {
   "cell_type": "markdown",
   "id": "66808566-256c-463b-9430-7e9a0d8d1a03",
   "metadata": {},
   "source": [
    "# 8. Insomnia Ratio for Normal BMI\n",
    "- Count the total individuals with Normal BMI.\n",
    "\n",
    "- Count how many of them also have Insomnia.\n",
    "\n",
    "- Calculate and store the ratio:Insomnia Ratio (Normal BMI)\n",
    "![image](image.png)\n",
    "\t​\n"
   ]
  },
  {
   "cell_type": "code",
   "execution_count": 34,
   "id": "e066cb9b-26d9-4b52-b094-af0a6cfa3456",
   "metadata": {
    "executionCancelledAt": null,
    "executionTime": 54,
    "lastExecutedAt": 1755704558544,
    "lastExecutedByKernel": "36c35714-caf8-44ff-a4d2-588f02a3a22e",
    "lastScheduledRunId": null,
    "lastSuccessfullyExecutedCode": "total_bmi_normal = len(sleep_health_data[sleep_health_data[\"BMI Category\"] == 'Normal'])\ntotal_bmi_normal\n\nbmi_normal_insomnia = sleep_health_data[(sleep_health_data[\"BMI Category\"] == 'Normal') & (sleep_health_data[\"Sleep Disorder\"] == 'Insomnia')]\nnum_normal_insomnia = len(bmi_normal_insomnia)\nnum_normal_insomnia\n\nbmi_insomnia_ratios[\"Normal\"] = round((num_normal_insomnia / total_bmi_normal),2)"
   },
   "outputs": [],
   "source": [
    "total_bmi_normal = len(sleep_health_data[sleep_health_data[\"BMI Category\"] == 'Normal'])\n",
    "total_bmi_normal\n",
    "\n",
    "bmi_normal_insomnia = sleep_health_data[(sleep_health_data[\"BMI Category\"] == 'Normal') & (sleep_health_data[\"Sleep Disorder\"] == 'Insomnia')]\n",
    "num_normal_insomnia = len(bmi_normal_insomnia)\n",
    "num_normal_insomnia\n",
    "\n",
    "bmi_insomnia_ratios[\"Normal\"] = round((num_normal_insomnia / total_bmi_normal),2)"
   ]
  },
  {
   "cell_type": "markdown",
   "id": "e4c58de7-daea-489b-a676-0c752026c53c",
   "metadata": {},
   "source": [
    "# 9. Insomnia Ratio for Overweight BMI\n",
    "- Repeat the process for Overweight BMI category.\n",
    "- Store the insomnia prevalence ratio in the dictionary."
   ]
  },
  {
   "cell_type": "code",
   "execution_count": 35,
   "id": "e0ea8e4f-eeba-45a7-9cb9-f4b5d4dbd396",
   "metadata": {
    "executionCancelledAt": null,
    "executionTime": 51,
    "lastExecutedAt": 1755704558596,
    "lastExecutedByKernel": "36c35714-caf8-44ff-a4d2-588f02a3a22e",
    "lastScheduledRunId": null,
    "lastSuccessfullyExecutedCode": "total_bmi_overweight = len(sleep_health_data[sleep_health_data[\"BMI Category\"] == 'Overweight'])\ntotal_bmi_overweight\n\nbmi_normal_insomnia = sleep_health_data[(sleep_health_data[\"BMI Category\"] == 'Overweight') & (sleep_health_data[\"Sleep Disorder\"] == 'Insomnia')]\nnum_overweight_insomnia = len(bmi_overweight_insomnia)\nnum_overweight_insomnia\n\nbmi_insomnia_ratios['Overweight'] = round((num_overweight_insomnia / total_bmi_overweight),2)"
   },
   "outputs": [],
   "source": [
    "total_bmi_overweight = len(sleep_health_data[sleep_health_data[\"BMI Category\"] == 'Overweight'])\n",
    "total_bmi_overweight\n",
    "\n",
    "bmi_overweight_insomnia = sleep_health_data[(sleep_health_data[\"BMI Category\"] == 'Overweight') & (sleep_health_data[\"Sleep Disorder\"] == 'Insomnia')]\n",
    "num_overweight_insomnia = len(bmi_overweight_insomnia)\n",
    "num_overweight_insomnia\n",
    "\n",
    "bmi_insomnia_ratios['Overweight'] = round((num_overweight_insomnia / total_bmi_overweight),2)"
   ]
  },
  {
   "cell_type": "markdown",
   "id": "38c2ea1b-29cf-44fc-9b42-68da5122c8a6",
   "metadata": {},
   "source": [
    "# 10. Insomnia Ratio for Obese BMI\n",
    "- Repeat the process for Obese BMI category.\n",
    "- Calculate insomnia ratio for obese individuals and store it."
   ]
  },
  {
   "cell_type": "code",
   "execution_count": 36,
   "id": "69351456-06af-4853-a321-0f7b7ec011e2",
   "metadata": {
    "executionCancelledAt": null,
    "executionTime": 779,
    "lastExecutedAt": 1756703207289,
    "lastExecutedByKernel": "9e832b6c-bf9d-4b9b-af22-fac601cf8ac1",
    "lastScheduledRunId": null,
    "lastSuccessfullyExecutedCode": "total_bmi_obese = len(sleep_health_data[sleep_health_data[\"BMI Category\"] == 'Obese'])\ntotal_bmi_obese\n\nbmi_obese_insomnia = sleep_health_data[(sleep_health_data[\"BMI Category\"] == 'Obese') & (sleep_health_data[\"Sleep Disorder\"] == 'Insomnia')]\nnum_obese_insomnia = len(bmi_obese_insomnia)\nnum_obese_insomnia\n\nbmi_insomnia_ratios['Obese'] = round((num_obese_insomnia / total_bmi_obese),2)\nbmi_insomnia_ratios"
   },
   "outputs": [
    {
     "data": {
      "text/plain": [
       "{'Normal': 0.04, 'Overweight': 0.43, 'Obese': 0.4}"
      ]
     },
     "execution_count": 36,
     "metadata": {},
     "output_type": "execute_result"
    }
   ],
   "source": [
    "total_bmi_obese = len(sleep_health_data[sleep_health_data[\"BMI Category\"] == 'Obese'])\n",
    "total_bmi_obese\n",
    "\n",
    "bmi_obese_insomnia = sleep_health_data[(sleep_health_data[\"BMI Category\"] == 'Obese') & (sleep_health_data[\"Sleep Disorder\"] == 'Insomnia')]\n",
    "num_obese_insomnia = len(bmi_obese_insomnia)\n",
    "num_obese_insomnia\n",
    "\n",
    "bmi_insomnia_ratios['Obese'] = round((num_obese_insomnia / total_bmi_obese),2)\n",
    "bmi_insomnia_ratios"
   ]
  },
  {
   "cell_type": "markdown",
   "id": "6547464f-2671-4f83-8ff7-ff0a75c266c7",
   "metadata": {},
   "source": [
    "# Conclusion\n",
    "\n",
    "Through this analysis:\n",
    " - We successfully loaded and explored the sleep health dataset.\n",
    " - Calculated average sleep duration and sleep quality by occupation.\n",
    " - Identified the occupations most affected by poor sleep habits.\n",
    " - Compared whether the same occupation suffers from both shortest sleep duration and lowest sleep quality.\n",
    "\n",
    "This type of analysis can provide valuable insights for workplace health studies and targeted interventions to improve employee well-being."
   ]
  }
 ],
 "metadata": {
  "colab": {
   "name": "Welcome to DataCamp Workspaces.ipynb",
   "provenance": []
  },
  "kernelspec": {
   "display_name": "base",
   "language": "python",
   "name": "python3"
  },
  "language_info": {
   "codemirror_mode": {
    "name": "ipython",
    "version": 3
   },
   "file_extension": ".py",
   "mimetype": "text/x-python",
   "name": "python",
   "nbconvert_exporter": "python",
   "pygments_lexer": "ipython3",
   "version": "3.12.3"
  }
 },
 "nbformat": 4,
 "nbformat_minor": 5
}
